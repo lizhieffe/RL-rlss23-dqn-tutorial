{
  "cells": [
    {
      "cell_type": "markdown",
      "metadata": {
        "id": "view-in-github",
        "colab_type": "text"
      },
      "source": [
        "<a href=\"https://colab.research.google.com/github/lizhieffe/RL-rlss23-dqn-tutorial/blob/main/1_fitted_q_iteration_fqi.ipynb\" target=\"_parent\"><img src=\"https://colab.research.google.com/assets/colab-badge.svg\" alt=\"Open In Colab\"/></a>"
      ]
    },
    {
      "cell_type": "markdown",
      "id": "c09ada11-d3a6-4837-b4d0-9657106a54b5",
      "metadata": {
        "id": "c09ada11-d3a6-4837-b4d0-9657106a54b5"
      },
      "source": [
        "# RLSS2023 - DQN Tutorial: Fitted Q Iteration (FQI)\n",
        "\n",
        "Website: https://rlsummerschool.com/\n",
        "\n",
        "Github repository: https://github.com/araffin/rlss23-dqn-tutorial\n",
        "\n",
        "Gymnasium documentation: https://gymnasium.farama.org/\n",
        "\n",
        "## Introduction\n",
        "\n",
        "In this notebook, you will implement the Fitted Q Iteration( (FQI) algorithm to solve the [CartPole](https://gymnasium.farama.org/environments/classic_control/cart_pole/) problem.\n",
        "\n",
        "This notebooks will first cover the basics for using the Gymnasium library: how to instantiate an environment, step into it and collect training data from the FQI algorithm.\n",
        "\n",
        "You will then learn how to implement step-by-step the FQI algorithm which is the predecessor of the [Deep Q-Network (DQN)](https://stable-baselines3.readthedocs.io/en/master/modules/dqn.html) algorithm."
      ]
    },
    {
      "cell_type": "code",
      "execution_count": 1,
      "id": "7fe1a9aa-5735-4614-9a76-031656397899",
      "metadata": {
        "id": "7fe1a9aa-5735-4614-9a76-031656397899"
      },
      "outputs": [],
      "source": [
        "# for autoformatting\n",
        "# !pip install jupyter-black\n",
        "# %load_ext jupyter_black"
      ]
    },
    {
      "cell_type": "markdown",
      "id": "8188798b-daf5-43a7-91ec-a7a922bc2034",
      "metadata": {
        "id": "8188798b-daf5-43a7-91ec-a7a922bc2034"
      },
      "source": [
        "## Install Dependencies"
      ]
    },
    {
      "cell_type": "code",
      "execution_count": 2,
      "id": "0b55494c-fff2-4459-87e1-e7399afd56d5",
      "metadata": {
        "id": "0b55494c-fff2-4459-87e1-e7399afd56d5",
        "colab": {
          "base_uri": "https://localhost:8080/"
        },
        "outputId": "337519a7-fc8c-4065-e40a-91e56931e54e"
      },
      "outputs": [
        {
          "output_type": "stream",
          "name": "stdout",
          "text": [
            "Collecting git+https://github.com/araffin/rlss23-dqn-tutorial/\n",
            "  Cloning https://github.com/araffin/rlss23-dqn-tutorial/ to /tmp/pip-req-build-s2e9bhie\n",
            "  Running command git clone --filter=blob:none --quiet https://github.com/araffin/rlss23-dqn-tutorial/ /tmp/pip-req-build-s2e9bhie\n",
            "  Resolved https://github.com/araffin/rlss23-dqn-tutorial/ to commit 3070ad0d11f0ece870fb0f6978dc75911edeaca1\n",
            "  Installing build dependencies ... \u001b[?25l\u001b[?25hdone\n",
            "  Getting requirements to build wheel ... \u001b[?25l\u001b[?25hdone\n",
            "  Installing backend dependencies ... \u001b[?25l\u001b[?25hdone\n",
            "  Preparing metadata (pyproject.toml) ... \u001b[?25l\u001b[?25hdone\n",
            "Requirement already satisfied: numpy in /usr/local/lib/python3.10/dist-packages (from dqn_tutorial==0.1.dev52+g3070ad0) (1.25.2)\n",
            "Collecting gymnasium[classic-control]<1.0,>=0.28.1 (from dqn_tutorial==0.1.dev52+g3070ad0)\n",
            "  Downloading gymnasium-0.29.1-py3-none-any.whl (953 kB)\n",
            "\u001b[2K     \u001b[90m━━━━━━━━━━━━━━━━━━━━━━━━━━━━━━━━━━━━━━━━\u001b[0m \u001b[32m953.9/953.9 kB\u001b[0m \u001b[31m7.9 MB/s\u001b[0m eta \u001b[36m0:00:00\u001b[0m\n",
            "\u001b[?25hRequirement already satisfied: scikit-learn in /usr/local/lib/python3.10/dist-packages (from dqn_tutorial==0.1.dev52+g3070ad0) (1.2.2)\n",
            "Requirement already satisfied: torch>=1.7.0 in /usr/local/lib/python3.10/dist-packages (from dqn_tutorial==0.1.dev52+g3070ad0) (2.2.1+cu121)\n",
            "Requirement already satisfied: cloudpickle>=1.2.0 in /usr/local/lib/python3.10/dist-packages (from gymnasium[classic-control]<1.0,>=0.28.1->dqn_tutorial==0.1.dev52+g3070ad0) (2.2.1)\n",
            "Requirement already satisfied: typing-extensions>=4.3.0 in /usr/local/lib/python3.10/dist-packages (from gymnasium[classic-control]<1.0,>=0.28.1->dqn_tutorial==0.1.dev52+g3070ad0) (4.10.0)\n",
            "Collecting farama-notifications>=0.0.1 (from gymnasium[classic-control]<1.0,>=0.28.1->dqn_tutorial==0.1.dev52+g3070ad0)\n",
            "  Downloading Farama_Notifications-0.0.4-py3-none-any.whl (2.5 kB)\n",
            "Requirement already satisfied: pygame>=2.1.3 in /usr/local/lib/python3.10/dist-packages (from gymnasium[classic-control]<1.0,>=0.28.1->dqn_tutorial==0.1.dev52+g3070ad0) (2.5.2)\n",
            "Requirement already satisfied: filelock in /usr/local/lib/python3.10/dist-packages (from torch>=1.7.0->dqn_tutorial==0.1.dev52+g3070ad0) (3.13.1)\n",
            "Requirement already satisfied: sympy in /usr/local/lib/python3.10/dist-packages (from torch>=1.7.0->dqn_tutorial==0.1.dev52+g3070ad0) (1.12)\n",
            "Requirement already satisfied: networkx in /usr/local/lib/python3.10/dist-packages (from torch>=1.7.0->dqn_tutorial==0.1.dev52+g3070ad0) (3.2.1)\n",
            "Requirement already satisfied: jinja2 in /usr/local/lib/python3.10/dist-packages (from torch>=1.7.0->dqn_tutorial==0.1.dev52+g3070ad0) (3.1.3)\n",
            "Requirement already satisfied: fsspec in /usr/local/lib/python3.10/dist-packages (from torch>=1.7.0->dqn_tutorial==0.1.dev52+g3070ad0) (2023.6.0)\n",
            "Collecting nvidia-cuda-nvrtc-cu12==12.1.105 (from torch>=1.7.0->dqn_tutorial==0.1.dev52+g3070ad0)\n",
            "  Downloading nvidia_cuda_nvrtc_cu12-12.1.105-py3-none-manylinux1_x86_64.whl (23.7 MB)\n",
            "\u001b[2K     \u001b[90m━━━━━━━━━━━━━━━━━━━━━━━━━━━━━━━━━━━━━━━━\u001b[0m \u001b[32m23.7/23.7 MB\u001b[0m \u001b[31m39.9 MB/s\u001b[0m eta \u001b[36m0:00:00\u001b[0m\n",
            "\u001b[?25hCollecting nvidia-cuda-runtime-cu12==12.1.105 (from torch>=1.7.0->dqn_tutorial==0.1.dev52+g3070ad0)\n",
            "  Downloading nvidia_cuda_runtime_cu12-12.1.105-py3-none-manylinux1_x86_64.whl (823 kB)\n",
            "\u001b[2K     \u001b[90m━━━━━━━━━━━━━━━━━━━━━━━━━━━━━━━━━━━━━━━━\u001b[0m \u001b[32m823.6/823.6 kB\u001b[0m \u001b[31m50.1 MB/s\u001b[0m eta \u001b[36m0:00:00\u001b[0m\n",
            "\u001b[?25hCollecting nvidia-cuda-cupti-cu12==12.1.105 (from torch>=1.7.0->dqn_tutorial==0.1.dev52+g3070ad0)\n",
            "  Downloading nvidia_cuda_cupti_cu12-12.1.105-py3-none-manylinux1_x86_64.whl (14.1 MB)\n",
            "\u001b[2K     \u001b[90m━━━━━━━━━━━━━━━━━━━━━━━━━━━━━━━━━━━━━━━━\u001b[0m \u001b[32m14.1/14.1 MB\u001b[0m \u001b[31m50.4 MB/s\u001b[0m eta \u001b[36m0:00:00\u001b[0m\n",
            "\u001b[?25hCollecting nvidia-cudnn-cu12==8.9.2.26 (from torch>=1.7.0->dqn_tutorial==0.1.dev52+g3070ad0)\n",
            "  Downloading nvidia_cudnn_cu12-8.9.2.26-py3-none-manylinux1_x86_64.whl (731.7 MB)\n",
            "\u001b[2K     \u001b[90m━━━━━━━━━━━━━━━━━━━━━━━━━━━━━━━━━━━━━━━━\u001b[0m \u001b[32m731.7/731.7 MB\u001b[0m \u001b[31m1.8 MB/s\u001b[0m eta \u001b[36m0:00:00\u001b[0m\n",
            "\u001b[?25hCollecting nvidia-cublas-cu12==12.1.3.1 (from torch>=1.7.0->dqn_tutorial==0.1.dev52+g3070ad0)\n",
            "  Downloading nvidia_cublas_cu12-12.1.3.1-py3-none-manylinux1_x86_64.whl (410.6 MB)\n",
            "\u001b[2K     \u001b[90m━━━━━━━━━━━━━━━━━━━━━━━━━━━━━━━━━━━━━━━━\u001b[0m \u001b[32m410.6/410.6 MB\u001b[0m \u001b[31m3.1 MB/s\u001b[0m eta \u001b[36m0:00:00\u001b[0m\n",
            "\u001b[?25hCollecting nvidia-cufft-cu12==11.0.2.54 (from torch>=1.7.0->dqn_tutorial==0.1.dev52+g3070ad0)\n",
            "  Downloading nvidia_cufft_cu12-11.0.2.54-py3-none-manylinux1_x86_64.whl (121.6 MB)\n",
            "\u001b[2K     \u001b[90m━━━━━━━━━━━━━━━━━━━━━━━━━━━━━━━━━━━━━━━━\u001b[0m \u001b[32m121.6/121.6 MB\u001b[0m \u001b[31m8.6 MB/s\u001b[0m eta \u001b[36m0:00:00\u001b[0m\n",
            "\u001b[?25hCollecting nvidia-curand-cu12==10.3.2.106 (from torch>=1.7.0->dqn_tutorial==0.1.dev52+g3070ad0)\n",
            "  Downloading nvidia_curand_cu12-10.3.2.106-py3-none-manylinux1_x86_64.whl (56.5 MB)\n",
            "\u001b[2K     \u001b[90m━━━━━━━━━━━━━━━━━━━━━━━━━━━━━━━━━━━━━━━━\u001b[0m \u001b[32m56.5/56.5 MB\u001b[0m \u001b[31m9.6 MB/s\u001b[0m eta \u001b[36m0:00:00\u001b[0m\n",
            "\u001b[?25hCollecting nvidia-cusolver-cu12==11.4.5.107 (from torch>=1.7.0->dqn_tutorial==0.1.dev52+g3070ad0)\n",
            "  Downloading nvidia_cusolver_cu12-11.4.5.107-py3-none-manylinux1_x86_64.whl (124.2 MB)\n",
            "\u001b[2K     \u001b[90m━━━━━━━━━━━━━━━━━━━━━━━━━━━━━━━━━━━━━━━━\u001b[0m \u001b[32m124.2/124.2 MB\u001b[0m \u001b[31m7.9 MB/s\u001b[0m eta \u001b[36m0:00:00\u001b[0m\n",
            "\u001b[?25hCollecting nvidia-cusparse-cu12==12.1.0.106 (from torch>=1.7.0->dqn_tutorial==0.1.dev52+g3070ad0)\n",
            "  Downloading nvidia_cusparse_cu12-12.1.0.106-py3-none-manylinux1_x86_64.whl (196.0 MB)\n",
            "\u001b[2K     \u001b[90m━━━━━━━━━━━━━━━━━━━━━━━━━━━━━━━━━━━━━━━━\u001b[0m \u001b[32m196.0/196.0 MB\u001b[0m \u001b[31m5.1 MB/s\u001b[0m eta \u001b[36m0:00:00\u001b[0m\n",
            "\u001b[?25hCollecting nvidia-nccl-cu12==2.19.3 (from torch>=1.7.0->dqn_tutorial==0.1.dev52+g3070ad0)\n",
            "  Downloading nvidia_nccl_cu12-2.19.3-py3-none-manylinux1_x86_64.whl (166.0 MB)\n",
            "\u001b[2K     \u001b[90m━━━━━━━━━━━━━━━━━━━━━━━━━━━━━━━━━━━━━━━━\u001b[0m \u001b[32m166.0/166.0 MB\u001b[0m \u001b[31m6.4 MB/s\u001b[0m eta \u001b[36m0:00:00\u001b[0m\n",
            "\u001b[?25hCollecting nvidia-nvtx-cu12==12.1.105 (from torch>=1.7.0->dqn_tutorial==0.1.dev52+g3070ad0)\n",
            "  Downloading nvidia_nvtx_cu12-12.1.105-py3-none-manylinux1_x86_64.whl (99 kB)\n",
            "\u001b[2K     \u001b[90m━━━━━━━━━━━━━━━━━━━━━━━━━━━━━━━━━━━━━━━━\u001b[0m \u001b[32m99.1/99.1 kB\u001b[0m \u001b[31m10.5 MB/s\u001b[0m eta \u001b[36m0:00:00\u001b[0m\n",
            "\u001b[?25hRequirement already satisfied: triton==2.2.0 in /usr/local/lib/python3.10/dist-packages (from torch>=1.7.0->dqn_tutorial==0.1.dev52+g3070ad0) (2.2.0)\n",
            "Collecting nvidia-nvjitlink-cu12 (from nvidia-cusolver-cu12==11.4.5.107->torch>=1.7.0->dqn_tutorial==0.1.dev52+g3070ad0)\n",
            "  Downloading nvidia_nvjitlink_cu12-12.4.99-py3-none-manylinux2014_x86_64.whl (21.1 MB)\n",
            "\u001b[2K     \u001b[90m━━━━━━━━━━━━━━━━━━━━━━━━━━━━━━━━━━━━━━━━\u001b[0m \u001b[32m21.1/21.1 MB\u001b[0m \u001b[31m36.7 MB/s\u001b[0m eta \u001b[36m0:00:00\u001b[0m\n",
            "\u001b[?25hRequirement already satisfied: scipy>=1.3.2 in /usr/local/lib/python3.10/dist-packages (from scikit-learn->dqn_tutorial==0.1.dev52+g3070ad0) (1.11.4)\n",
            "Requirement already satisfied: joblib>=1.1.1 in /usr/local/lib/python3.10/dist-packages (from scikit-learn->dqn_tutorial==0.1.dev52+g3070ad0) (1.3.2)\n",
            "Requirement already satisfied: threadpoolctl>=2.0.0 in /usr/local/lib/python3.10/dist-packages (from scikit-learn->dqn_tutorial==0.1.dev52+g3070ad0) (3.3.0)\n",
            "Requirement already satisfied: MarkupSafe>=2.0 in /usr/local/lib/python3.10/dist-packages (from jinja2->torch>=1.7.0->dqn_tutorial==0.1.dev52+g3070ad0) (2.1.5)\n",
            "Requirement already satisfied: mpmath>=0.19 in /usr/local/lib/python3.10/dist-packages (from sympy->torch>=1.7.0->dqn_tutorial==0.1.dev52+g3070ad0) (1.3.0)\n",
            "Building wheels for collected packages: dqn_tutorial\n",
            "  Building wheel for dqn_tutorial (pyproject.toml) ... \u001b[?25l\u001b[?25hdone\n",
            "  Created wheel for dqn_tutorial: filename=dqn_tutorial-0.1.dev52+g3070ad0-py3-none-any.whl size=19451 sha256=7bd1f02b5c3d64953c0388f4125b3ec669bb81b752001e355ec61dae87215f68\n",
            "  Stored in directory: /tmp/pip-ephem-wheel-cache-itmkmxac/wheels/eb/01/e5/e10c90ef93e4de9e05cf38717b3ab8a9bdc71982eb2eecf9a3\n",
            "Successfully built dqn_tutorial\n",
            "Installing collected packages: farama-notifications, nvidia-nvtx-cu12, nvidia-nvjitlink-cu12, nvidia-nccl-cu12, nvidia-curand-cu12, nvidia-cufft-cu12, nvidia-cuda-runtime-cu12, nvidia-cuda-nvrtc-cu12, nvidia-cuda-cupti-cu12, nvidia-cublas-cu12, gymnasium, nvidia-cusparse-cu12, nvidia-cudnn-cu12, nvidia-cusolver-cu12, dqn_tutorial\n",
            "Successfully installed dqn_tutorial-0.1.dev52+g3070ad0 farama-notifications-0.0.4 gymnasium-0.29.1 nvidia-cublas-cu12-12.1.3.1 nvidia-cuda-cupti-cu12-12.1.105 nvidia-cuda-nvrtc-cu12-12.1.105 nvidia-cuda-runtime-cu12-12.1.105 nvidia-cudnn-cu12-8.9.2.26 nvidia-cufft-cu12-11.0.2.54 nvidia-curand-cu12-10.3.2.106 nvidia-cusolver-cu12-11.4.5.107 nvidia-cusparse-cu12-12.1.0.106 nvidia-nccl-cu12-2.19.3 nvidia-nvjitlink-cu12-12.4.99 nvidia-nvtx-cu12-12.1.105\n"
          ]
        }
      ],
      "source": [
        "!pip install git+https://github.com/araffin/rlss23-dqn-tutorial/ --upgrade"
      ]
    },
    {
      "cell_type": "code",
      "execution_count": 3,
      "id": "fae52974-fda2-487a-9f64-80bf58125785",
      "metadata": {
        "id": "fae52974-fda2-487a-9f64-80bf58125785",
        "colab": {
          "base_uri": "https://localhost:8080/"
        },
        "outputId": "09e050ab-c776-4d8a-df00-ba8bb7d05eee"
      },
      "outputs": [
        {
          "output_type": "stream",
          "name": "stdout",
          "text": [
            "Reading package lists... Done\n",
            "Building dependency tree... Done\n",
            "Reading state information... Done\n",
            "ffmpeg is already the newest version (7:4.4.2-0ubuntu0.22.04.1).\n",
            "0 upgraded, 0 newly installed, 0 to remove and 38 not upgraded.\n"
          ]
        }
      ],
      "source": [
        "!apt-get install ffmpeg  # For visualization"
      ]
    },
    {
      "cell_type": "markdown",
      "id": "e2369b55-266c-4dbe-b14d-250ef7386407",
      "metadata": {
        "id": "e2369b55-266c-4dbe-b14d-250ef7386407"
      },
      "source": [
        "## First steps with the Gym interface\n",
        "\n",
        "An environment that follows the [gym interface](https://gymnasium.farama.org/) is quite simple to use.\n",
        "It provides to this user mainly three methods, which have the following signature (for gym versions > 0.26):\n",
        "\n",
        "- `reset()` called at the beginning of an episode, it returns an observation and a dictionary with additional info (defaults to an empty dict)\n",
        "- `step(action)` called to take an action with the environment, it returns the next observation, the immediate reward, whether new state is a terminal state (episode is finished), whether the max number of timesteps is reached (episode is artificially finished), and additional information\n",
        "- (Optional) `render()` which allow to visualize the agent in action. Note that graphical interface does not work on google colab, so we cannot use it directly (we have to rely on `render_mode='rbg_array'` to retrieve an image of the scene).\n",
        "\n",
        "Under the hood, it also contains two useful properties:\n",
        "- `observation_space` which one of the gym spaces (`Discrete`, `Box`, ...) and describe the type and shape of the observation\n",
        "- `action_space` which is also a gym space object that describes the action space, so the type of action that can be taken\n",
        "\n",
        "The best way to learn about [gym spaces](https://gymnasium.farama.org/api/spaces/) is to look at the [source code](https://github.com/Farama-Foundation/Gymnasium/tree/main/gymnasium/spaces), but you need to know at least the main ones:\n",
        "- `gym.spaces.Box`: A (possibly unbounded) box in $R^n$. Specifically, a Box represents the Cartesian product of n closed intervals. Each interval has the form of one of [a, b], (-oo, b], [a, oo), or (-oo, oo). Example: A 1D-Vector or an image observation can be described with the Box space.\n",
        "```python\n",
        "# Example for using image as input:\n",
        "observation_space = spaces.Box(low=0, high=255, shape=(HEIGHT, WIDTH, N_CHANNELS), dtype=np.uint8)\n",
        "```                                       \n",
        "\n",
        "- `gym.spaces.Discrete`: A discrete space in $\\{ 0, 1, \\dots, n-1 \\}$\n",
        "  Example: if you have two actions (\"left\" and \"right\") you can represent your action space using `Discrete(2)`, the first action will be 0 and the second 1."
      ]
    },
    {
      "cell_type": "markdown",
      "id": "af049724-3db9-4dec-a40c-3aa025735f00",
      "metadata": {
        "id": "af049724-3db9-4dec-a40c-3aa025735f00"
      },
      "source": [
        "## CartPole Environment\n",
        "\n",
        "For this example, we will use CartPole environment, a classic control problem.\n",
        "\n",
        "\"A pole is attached by an un-actuated joint to a cart, which moves along a frictionless track. The system is controlled by applying a force of +1 or -1 to the cart. The pendulum starts upright, and the goal is to prevent it from falling over. A reward of +1 is provided for every timestep that the pole remains upright. \"\n",
        "\n",
        "Cartpole environment: [https://gymnasium.farama.org/environments/classic_control/cart_pole/](https://gymnasium.farama.org/environments/classic_control/cart_pole/)\n",
        "\n",
        "![Cartpole](https://cdn-images-1.medium.com/max/1143/1*h4WTQNVIsvMXJTCpXm_TAw.gif)"
      ]
    },
    {
      "cell_type": "code",
      "execution_count": 4,
      "id": "60ec422f-2edd-40df-8da2-c1093e1da38c",
      "metadata": {
        "id": "60ec422f-2edd-40df-8da2-c1093e1da38c"
      },
      "outputs": [],
      "source": [
        "import gymnasium as gym\n",
        "\n",
        "# Instantiate the environment\n",
        "env = gym.make(\"CartPole-v1\")"
      ]
    },
    {
      "cell_type": "code",
      "execution_count": 5,
      "id": "476f88b6-4fe2-45ec-bddd-4d83feb3a86f",
      "metadata": {
        "id": "476f88b6-4fe2-45ec-bddd-4d83feb3a86f",
        "colab": {
          "base_uri": "https://localhost:8080/"
        },
        "outputId": "81bdeb26-b21e-49b3-e032-36897fc054c2"
      },
      "outputs": [
        {
          "output_type": "stream",
          "name": "stdout",
          "text": [
            "Observation space: Box([-4.8000002e+00 -3.4028235e+38 -4.1887903e-01 -3.4028235e+38], [4.8000002e+00 3.4028235e+38 4.1887903e-01 3.4028235e+38], (4,), float32)\n",
            "Shape: (4,)\n",
            "Action space: Discrete(2)\n"
          ]
        }
      ],
      "source": [
        "# Box(4,) means that it is a Vector with 4 components\n",
        "print(\"Observation space:\", env.observation_space)\n",
        "print(\"Shape:\", env.observation_space.shape)\n",
        "# Discrete(2) means that there is two discrete actions\n",
        "print(\"Action space:\", env.action_space)"
      ]
    },
    {
      "cell_type": "code",
      "execution_count": 6,
      "id": "e414990e-2cbd-4f6f-b268-42f16a9b253b",
      "metadata": {
        "id": "e414990e-2cbd-4f6f-b268-42f16a9b253b",
        "colab": {
          "base_uri": "https://localhost:8080/"
        },
        "outputId": "df96c7d0-4b6f-40cf-e35e-6935f31d38e5"
      },
      "outputs": [
        {
          "output_type": "stream",
          "name": "stdout",
          "text": [
            "Initial obs=array([ 0.04157184, -0.0196008 , -0.04154668, -0.01105948], dtype=float32)\n",
            "info={}\n"
          ]
        }
      ],
      "source": [
        "# The reset method is called at the beginning of an episode\n",
        "obs, info = env.reset()\n",
        "print(f'Initial {obs=}')\n",
        "print(f'{info=}')"
      ]
    },
    {
      "cell_type": "code",
      "execution_count": 7,
      "id": "e89a95c8-d64a-43a3-adee-344891bbd1b7",
      "metadata": {
        "id": "e89a95c8-d64a-43a3-adee-344891bbd1b7",
        "colab": {
          "base_uri": "https://localhost:8080/"
        },
        "outputId": "c1966bcb-544e-411e-98b3-f80f5ab953b4"
      },
      "outputs": [
        {
          "output_type": "stream",
          "name": "stdout",
          "text": [
            "Sampled action: 1\n"
          ]
        }
      ],
      "source": [
        "# Sample a random action\n",
        "import random\n",
        "action = random.randint(0, 1)\n",
        "print(f\"Sampled action: {action}\")"
      ]
    },
    {
      "cell_type": "code",
      "execution_count": 8,
      "id": "311777a2-9518-496a-b1e8-0eb1af81fb7d",
      "metadata": {
        "id": "311777a2-9518-496a-b1e8-0eb1af81fb7d",
        "colab": {
          "base_uri": "https://localhost:8080/"
        },
        "outputId": "7a0118b5-897d-488a-8721-f7ca7baf60c7"
      },
      "outputs": [
        {
          "output_type": "stream",
          "name": "stdout",
          "text": [
            "obs=array([ 0.04117982,  0.1760916 , -0.04176787, -0.31655598], dtype=float32)\n",
            "reward=1.0\n",
            "terminated=False\n",
            "truncated=False\n",
            "info={}\n"
          ]
        }
      ],
      "source": [
        "# step in the environment\n",
        "obs, reward, terminated, truncated, info = env.step(action)\n",
        "print(f'{obs=}')\n",
        "print(f'{reward=}')\n",
        "print(f'{terminated=}')\n",
        "print(f'{truncated=}')\n",
        "print(f'{info=}')"
      ]
    },
    {
      "cell_type": "code",
      "execution_count": 9,
      "id": "5102a9c8-8407-4f88-b58d-4e3e5a00af3b",
      "metadata": {
        "id": "5102a9c8-8407-4f88-b58d-4e3e5a00af3b",
        "colab": {
          "base_uri": "https://localhost:8080/"
        },
        "outputId": "404f2ee1-b822-47a0-9ef9-99ee68241526"
      },
      "outputs": [
        {
          "output_type": "stream",
          "name": "stdout",
          "text": [
            "(4,) 1.0 False False {}\n"
          ]
        }
      ],
      "source": [
        "# Note the obs is a numpy array\n",
        "# info is an empty dict for now but can contain any debugging info\n",
        "# reward is a scalar\n",
        "print(obs.shape, reward, terminated, truncated, info)"
      ]
    },
    {
      "cell_type": "markdown",
      "id": "90fbec50-1da0-4bc4-8b88-79fa38480bfe",
      "metadata": {
        "id": "90fbec50-1da0-4bc4-8b88-79fa38480bfe"
      },
      "source": [
        "### Exercise (10 minutes): write the function to collect data\n",
        "\n",
        "This function collects an offline dataset of transitions that will be used to train a model using the FQI algorithm.\n",
        "\n",
        "See docstring of the function for what is expected as input/output."
      ]
    },
    {
      "cell_type": "code",
      "execution_count": 10,
      "id": "1f1b3ff1-911b-4582-91f7-49420380eda3",
      "metadata": {
        "id": "1f1b3ff1-911b-4582-91f7-49420380eda3"
      },
      "outputs": [],
      "source": [
        "from dataclasses import dataclass\n",
        "\n",
        "import numpy as np\n",
        "from gymnasium import spaces\n",
        "\n",
        "\n",
        "@dataclass\n",
        "class OfflineData:\n",
        "    \"\"\"\n",
        "    A class to store transitions.\n",
        "\n",
        "    observations: N*4\n",
        "    next_observations: N*4\n",
        "    actions: N*2\n",
        "    rewards: N\n",
        "    terminateds: N\n",
        "\n",
        "    Where N is the # of steps.\n",
        "    \"\"\"\n",
        "\n",
        "    observations: np.ndarray  # same as \"state\" in the theory\n",
        "    next_observations: np.ndarray\n",
        "    actions: np.ndarray\n",
        "    rewards: np.ndarray\n",
        "    terminateds: np.ndarray"
      ]
    },
    {
      "cell_type": "markdown",
      "id": "ac6bdde9-0b87-4449-b09d-de0ba2d7a2ac",
      "metadata": {
        "id": "ac6bdde9-0b87-4449-b09d-de0ba2d7a2ac"
      },
      "source": [
        "**HINT**: Take a look at the slide on Gym API or at the Gymnasium documentation: https://gymnasium.farama.org/"
      ]
    },
    {
      "cell_type": "code",
      "execution_count": 31,
      "id": "f9f753ed-5f5d-4133-ab82-c84b3cfe2eef",
      "metadata": {
        "id": "f9f753ed-5f5d-4133-ab82-c84b3cfe2eef"
      },
      "outputs": [],
      "source": [
        "def collect_data(env_id: str, n_steps: int = 50_000) -> OfflineData:\n",
        "    \"\"\"\n",
        "    Collect transitions using a random agent (sample action randomly).\n",
        "\n",
        "    :param env_id: The name of the environment.\n",
        "    :param n_steps: Number of steps to perform in the env.\n",
        "    :return: The collected transitions.\n",
        "    \"\"\"\n",
        "    # Create the Gym env\n",
        "    env = gym.make(env_id)\n",
        "\n",
        "    assert isinstance(env.observation_space, spaces.Box)\n",
        "    # Numpy arrays (buffers) to collect the data\n",
        "    observations = np.zeros((n_steps, *env.observation_space.shape))\n",
        "    next_observations = np.zeros((n_steps, *env.observation_space.shape))\n",
        "    # Discrete actions\n",
        "    actions = np.zeros((n_steps, 1))\n",
        "    rewards = np.zeros((n_steps,))\n",
        "    terminateds = np.zeros((n_steps,))\n",
        "\n",
        "    # Variable to know if the episode is over (done = terminated or truncated)\n",
        "    done = False\n",
        "\n",
        "    ### YOUR CODE HERE\n",
        "    # You need to collect transitions for `n_steps` using\n",
        "    # a random agent (sample action uniformly).\n",
        "    # Do not forget to reset the environment if the current episode is over\n",
        "    # (done = terminated or truncated)\n",
        "    #\n",
        "    # TODO:\n",
        "    # 1. Sample a random action\n",
        "    # 2. Step in the env using this random action\n",
        "    # 3. Retrieve the new transition data (observation, reward, ...)\n",
        "    #  and update the numpy arrays (buffers)\n",
        "    # 4. Repeat until you collected `n_steps` transitions\n",
        "\n",
        "    # Start the first episode\n",
        "    current_obs, _ = env.reset()\n",
        "\n",
        "    for idx in range(n_steps):\n",
        "      # Sample a random action\n",
        "      action = random.randint(0, 1)\n",
        "\n",
        "      # Store the transition\n",
        "      # Note: we only record true termination (timeouts/truncations are artificial terminations)\n",
        "      obs, reward, terminated, truncated, info = env.step(action)\n",
        "\n",
        "      observations[idx] = current_obs\n",
        "      next_observations[idx] = obs\n",
        "      actions[idx] = action\n",
        "      rewards[idx] = reward\n",
        "      terminateds[idx] = terminated\n",
        "\n",
        "      # Update current observation\n",
        "      current_obs = obs\n",
        "\n",
        "      # reset the env at the end of an episode\n",
        "      if terminated or truncated:\n",
        "        current_obs, _ = env.reset()\n",
        "\n",
        "    ### END OF YOUR CODE\n",
        "\n",
        "    return OfflineData(\n",
        "        observations,\n",
        "        next_observations,\n",
        "        actions,\n",
        "        rewards,\n",
        "        terminateds,\n",
        "    )"
      ]
    },
    {
      "cell_type": "markdown",
      "id": "dbe5d4b3-d3d6-4f82-9337-a8566c1fc707",
      "metadata": {
        "id": "dbe5d4b3-d3d6-4f82-9337-a8566c1fc707"
      },
      "source": [
        "Let's try the collect data method:"
      ]
    },
    {
      "cell_type": "code",
      "execution_count": 32,
      "id": "f499a940-a35f-4b8c-86bb-94231c41a87e",
      "metadata": {
        "id": "f499a940-a35f-4b8c-86bb-94231c41a87e"
      },
      "outputs": [],
      "source": [
        "env_id = \"CartPole-v1\"\n",
        "n_steps = 50_000\n",
        "# Collect transitions for n_steps\n",
        "data = collect_data(env_id=env_id, n_steps=n_steps)"
      ]
    },
    {
      "cell_type": "code",
      "source": [
        "print(f'{data.rewards[data.rewards!=1]=}')"
      ],
      "metadata": {
        "colab": {
          "base_uri": "https://localhost:8080/"
        },
        "id": "xVqxw7kzsIay",
        "outputId": "f18553e7-a1af-48aa-e42e-272f2349e8b6"
      },
      "id": "xVqxw7kzsIay",
      "execution_count": 33,
      "outputs": [
        {
          "output_type": "stream",
          "name": "stdout",
          "text": [
            "data.rewards[data.rewards!=1]=array([], dtype=float64)\n"
          ]
        }
      ]
    },
    {
      "cell_type": "code",
      "execution_count": 34,
      "id": "8ae0713b-63f3-40f0-8471-f3f7e3c53f88",
      "metadata": {
        "id": "8ae0713b-63f3-40f0-8471-f3f7e3c53f88"
      },
      "outputs": [],
      "source": [
        "# Check the length of the collected data\n",
        "assert len(data.observations) == n_steps\n",
        "assert len(data.actions) == n_steps\n",
        "# Check that there are multiple episodes in the data\n",
        "assert not np.all(data.terminateds)\n",
        "assert np.any(data.terminateds)\n",
        "# Check the shape of the collected data\n",
        "if env_id == \"CartPole-v1\":\n",
        "    assert data.observations.shape == (n_steps, 4)\n",
        "    assert data.next_observations.shape == (n_steps, 4)\n",
        "assert data.actions.shape == (n_steps, 1)\n",
        "assert data.rewards.shape == (n_steps,)"
      ]
    },
    {
      "cell_type": "code",
      "execution_count": 35,
      "id": "f815ff42-3c8e-4ab5-835f-70438171751b",
      "metadata": {
        "id": "f815ff42-3c8e-4ab5-835f-70438171751b",
        "colab": {
          "base_uri": "https://localhost:8080/"
        },
        "outputId": "4d4743cb-dbfa-4562-eedc-5a4d2a4b6b6a"
      },
      "outputs": [
        {
          "output_type": "stream",
          "name": "stdout",
          "text": [
            "Saving to ../data/CartPole-v1_data.npz\n"
          ]
        }
      ],
      "source": [
        "from pathlib import Path\n",
        "\n",
        "from dqn_tutorial.fqi import save_data\n",
        "\n",
        "output_filename = Path(\"../data\") / f\"{env_id}_data\"\n",
        "# Create folder if it doesn't exist\n",
        "output_filename.parent.mkdir(parents=True, exist_ok=True)\n",
        "\n",
        "# Save collected data using numpy\n",
        "save_data(data, output_filename)"
      ]
    },
    {
      "cell_type": "markdown",
      "id": "2ff52b1a-6eb1-4284-b25f-8d59ab005ed5",
      "metadata": {
        "id": "2ff52b1a-6eb1-4284-b25f-8d59ab005ed5"
      },
      "source": [
        "## Fitted Q Iteration (FQI) Algorithm\n",
        "\n",
        "Fitted Q Iteration (FQI) is an algorithm that extends q-learning to continuous state space using function estimators.\n",
        "\n",
        "It iteratively approximates the q-values for a given dataset of transitions (state, action, reward, next_state) by iteratively solving a regression problem.\n",
        "\n",
        "Compared to later algorithms like DQN, FQI uses the whole dataset at every iteration (working on the whole batch instead of using minibatches).\n",
        "\n",
        "\n",
        "<div>\n",
        "    <img src=\"https://araffin.github.io/slides/dqn-tutorial/images/fqi/tabular_limit_2.png\" width=\"500\"/>\n",
        "</div>"
      ]
    },
    {
      "cell_type": "code",
      "execution_count": 36,
      "id": "045b251a-9ace-450b-afa9-7ee4128cdef6",
      "metadata": {
        "id": "045b251a-9ace-450b-afa9-7ee4128cdef6"
      },
      "outputs": [],
      "source": [
        "from functools import partial\n",
        "from pathlib import Path\n",
        "from typing import Optional\n",
        "\n",
        "import gymnasium as gym\n",
        "import numpy as np\n",
        "from gymnasium import spaces\n",
        "from sklearn import tree\n",
        "from sklearn.base import RegressorMixin\n",
        "from sklearn.exceptions import NotFittedError\n",
        "from sklearn.ensemble import GradientBoostingRegressor, RandomForestRegressor\n",
        "from sklearn.linear_model import LinearRegression\n",
        "from sklearn.preprocessing import PolynomialFeatures\n",
        "from sklearn.neighbors import KNeighborsRegressor"
      ]
    },
    {
      "cell_type": "markdown",
      "id": "239ad0de-bec9-4918-a691-4322d062c45a",
      "metadata": {
        "id": "239ad0de-bec9-4918-a691-4322d062c45a"
      },
      "source": [
        "### Choosing a Model\n",
        "\n",
        "With FQI, you can use any regression model.\n",
        "\n",
        "Here we are choosing a [k-nearest neighbors regressor](https://scikit-learn.org/stable/modules/neighbors.html#regression), but one could choose a linear model, a decision tree, a neural network, ..."
      ]
    },
    {
      "cell_type": "code",
      "execution_count": 37,
      "id": "1d8d873e-bc40-4a35-b98b-4fe9ce916aab",
      "metadata": {
        "id": "1d8d873e-bc40-4a35-b98b-4fe9ce916aab"
      },
      "outputs": [],
      "source": [
        "# First choose the regressor\n",
        "model_class = partial(KNeighborsRegressor, n_neighbors=30)  # LinearRegression, GradientBoostingRegressor"
      ]
    },
    {
      "cell_type": "markdown",
      "id": "be7a24b4-a416-4607-af3a-9dfdbc203fc1",
      "metadata": {
        "id": "be7a24b4-a416-4607-af3a-9dfdbc203fc1"
      },
      "source": [
        "### Loading offline dataset\n",
        "\n",
        "The offline dataset contains the transitions collected using a random agent."
      ]
    },
    {
      "cell_type": "code",
      "execution_count": 38,
      "id": "1fe29bd2-ea95-4778-b466-537a088615b0",
      "metadata": {
        "id": "1fe29bd2-ea95-4778-b466-537a088615b0"
      },
      "outputs": [],
      "source": [
        "from dqn_tutorial.fqi import load_data\n",
        "\n",
        "env_id = \"CartPole-v1\"\n",
        "output_filename = Path(\"../data\") / f\"{env_id}_data.npz\"\n",
        "render_mode = \"rgb_array\"\n",
        "\n",
        "# Create test environment\n",
        "env = gym.make(env_id, render_mode=render_mode)\n",
        "\n",
        "# Load saved transitions\n",
        "data = load_data(output_filename)"
      ]
    },
    {
      "cell_type": "markdown",
      "id": "a7c0f461-9c04-48f2-ad57-21b555a7c041",
      "metadata": {
        "id": "a7c0f461-9c04-48f2-ad57-21b555a7c041"
      },
      "source": [
        "### First Iteration of FQI\n",
        "\n",
        "For $n = 0$, the initial training set is defined as:\n",
        "\n",
        "- $x = (s_t, a_t)$\n",
        "- $y = r_t$\n",
        "\n",
        "We fit a regression model $f_\\theta(x) = y$ to obtain $ Q^{n=0}_\\theta(s, a) $"
      ]
    },
    {
      "cell_type": "code",
      "execution_count": 39,
      "id": "26940b3e-4c9a-4632-a198-2e0ce7b12b88",
      "metadata": {
        "id": "26940b3e-4c9a-4632-a198-2e0ce7b12b88"
      },
      "outputs": [],
      "source": [
        "# First iteration:\n",
        "# The target q-value is the reward obtained\n",
        "targets = data.rewards.copy()\n",
        "# Create input for current observations and actions\n",
        "# Concatenate the observations and actions\n",
        "# so we can predict qf(s_t, a_t)\n",
        "current_obs_input = np.concatenate((data.observations, data.actions), axis=1)\n",
        "# Fit the estimator for the current target\n",
        "model = model_class().fit(current_obs_input, targets)"
      ]
    },
    {
      "cell_type": "code",
      "source": [
        "print(f'{current_obs_input.shape=}')"
      ],
      "metadata": {
        "colab": {
          "base_uri": "https://localhost:8080/"
        },
        "id": "lFnIzHrJ2uDE",
        "outputId": "8214d05c-8682-4afa-db5a-bee0a829fefc"
      },
      "id": "lFnIzHrJ2uDE",
      "execution_count": 40,
      "outputs": [
        {
          "output_type": "stream",
          "name": "stdout",
          "text": [
            "current_obs_input.shape=(50000, 5)\n"
          ]
        }
      ]
    },
    {
      "cell_type": "markdown",
      "id": "5bf9544c-87f4-4872-9ae9-eef49c3a040a",
      "metadata": {
        "id": "5bf9544c-87f4-4872-9ae9-eef49c3a040a"
      },
      "source": [
        "### 1. Exercise (10 minutes): write the function to predict Q-Values\n",
        "\n",
        "\n",
        "<div>\n",
        "    <img src=\"https://araffin.github.io/slides/dqn-tutorial/images/fqi/q_value_fqi.png\" width=\"300\"/>\n",
        "</div>\n",
        "\n",
        "**HINT**: Check the first iteration of FQI to know how to create the input to the regression model\n",
        "\n",
        "\n",
        "**HINT**: For efficiency, we are not working with one transition at a time but on a batch of transitions/observations. The resulting `q_values` are therefore a matrix of shape `(batch_size, n_actions)` where `batch_size` is the size of the batch of observations (aka number of observations used at once) and `n_actions` is the number of available actions (`n_actions=2` for CartPole, as we can only go left or right)\n",
        "\n",
        "Below is a diagram explaining how the predicted `q_values` will be stored.\n",
        "\n",
        "Row-wise, we get the q-values estimates for all possible actions but for one single observation (state):\n",
        "\n",
        "<div>\n",
        "    <img src=\"https://araffin.github.io/slides/dqn-tutorial/images/sklearn/q_value_batch.png\" width=\"500\"/>\n",
        "    <br>\n",
        "</div>\n",
        "\n",
        "Column-wise, we get the q-values estimates for a given action but for a batch of observations (states):\n",
        "<div>\n",
        "    <img src=\"https://araffin.github.io/slides/dqn-tutorial/images/sklearn/q_value_batch_2.png\" width=\"400\"/>\n",
        "</div>"
      ]
    },
    {
      "cell_type": "code",
      "execution_count": 41,
      "id": "1d1c52d1-4336-4caa-9d91-cfb641e7972a",
      "metadata": {
        "id": "1d1c52d1-4336-4caa-9d91-cfb641e7972a"
      },
      "outputs": [],
      "source": [
        "def get_q_values(\n",
        "    model: RegressorMixin,\n",
        "    obs: np.ndarray,\n",
        "    n_actions: int,\n",
        ") -> np.ndarray:\n",
        "    \"\"\"\n",
        "    Retrieve the q-values for a set of observations(=states in the theory).\n",
        "    qf(s_t, action) for all possible actions.\n",
        "\n",
        "    :param model: Q-value estimator\n",
        "    :param obs: A batch of observations\n",
        "    :param n_actions: Number of discrete actions.\n",
        "    :return: The predicted q-values for the given observations\n",
        "        (batch_size, n_actions)\n",
        "    \"\"\"\n",
        "    batch_size = len(obs)\n",
        "    q_values = np.zeros((batch_size, n_actions))\n",
        "\n",
        "    ### YOUR CODE HERE\n",
        "    # TODO: for every possible actions a:\n",
        "    # 1. Create the regression model input $(s, a)$ for the action a\n",
        "    # and states s (here a batch of observations)\n",
        "    # 2. Predict the q-values for the batch of states\n",
        "    # 3. Update q-values array for the current action a\n",
        "\n",
        "    # Predict q-value for each action\n",
        "    for action_idx in range(n_actions):\n",
        "        # Note: we should do one hot encoding if not using CartPole (n_actions > 2)\n",
        "        # Create a vector of size (batch_size, 1) for the current action\n",
        "        # This allows to do batch prediction for all the provided observations\n",
        "        actions = action_idx * np.ones((batch_size, 1))\n",
        "        # Concatenate the observations and the actions to obtain\n",
        "        # the input to the q-value estimator\n",
        "        # you can use `np.concatenate()`\n",
        "        batch_input = np.concatenate((obs, actions), axis=1)\n",
        "\n",
        "        # Predict q-values for the given observation/action combination\n",
        "        # shape: (batch_size, 1)\n",
        "        # with a scikit-learn model, you can `model.predict()`\n",
        "        batch_output = model.predict(batch_input)\n",
        "\n",
        "        # Update the q-values array for the current action\n",
        "        # q_values is of shape (batch_size, n_actions)\n",
        "        q_values[:, action_idx] = batch_output\n",
        "\n",
        "\n",
        "    ### END OF YOUR CODE\n",
        "\n",
        "    return q_values"
      ]
    },
    {
      "cell_type": "markdown",
      "id": "353de669-1744-43be-a3dc-5310d23c72a4",
      "metadata": {
        "id": "353de669-1744-43be-a3dc-5310d23c72a4"
      },
      "source": [
        "Let's test it with a subset of the collected data:"
      ]
    },
    {
      "cell_type": "code",
      "execution_count": 42,
      "id": "6910968b-16db-41fe-a6d9-ff8c65322c85",
      "metadata": {
        "id": "6910968b-16db-41fe-a6d9-ff8c65322c85"
      },
      "outputs": [],
      "source": [
        "n_observations = 2\n",
        "n_actions = int(env.action_space.n)\n",
        "\n",
        "q_values = get_q_values(model, data.observations[:n_observations], n_actions)\n",
        "\n",
        "assert q_values.shape == (n_observations, n_actions)"
      ]
    },
    {
      "cell_type": "markdown",
      "id": "a883ff38-48e9-4f7c-8692-33a9d1b325d2",
      "metadata": {
        "id": "a883ff38-48e9-4f7c-8692-33a9d1b325d2"
      },
      "source": [
        "### 2. Exercise (8 minutes): write the function to evaluate a model\n",
        "\n",
        "A greedy policy $\\pi(s)$ can be defined using the q-value:\n",
        "\n",
        "$\\pi(s) = argmax_{a \\in A} Q(s, a)$.\n",
        "\n",
        "It is the policy that takes the action with the highest q-value for a given state."
      ]
    },
    {
      "cell_type": "code",
      "execution_count": 43,
      "id": "2b1f4b18-a811-43fa-925d-20ad2f4d52d7",
      "metadata": {
        "id": "2b1f4b18-a811-43fa-925d-20ad2f4d52d7"
      },
      "outputs": [],
      "source": [
        "import os\n",
        "\n",
        "from gymnasium.wrappers.monitoring.video_recorder import VideoRecorder\n",
        "\n",
        "\n",
        "def evaluate(\n",
        "    model: RegressorMixin,\n",
        "    env: gym.Env,\n",
        "    n_eval_episodes: int = 10,\n",
        "    video_name: Optional[str] = None,\n",
        ") -> None:\n",
        "    episode_returns, episode_reward = [], 0.0\n",
        "    total_episodes = 0\n",
        "    done = False\n",
        "\n",
        "    # Setup video recorder\n",
        "    video_recorder = None\n",
        "    if video_name is not None and env.render_mode == \"rgb_array\":\n",
        "        os.makedirs(\"../logs/videos/\", exist_ok=True)\n",
        "\n",
        "        video_recorder = VideoRecorder(\n",
        "            env=env,\n",
        "            base_path=f\"../logs/videos/{video_name}\",\n",
        "        )\n",
        "\n",
        "    current_obs, _ = env.reset()\n",
        "    # Number of discrete actions\n",
        "    n_actions = int(env.action_space.n)\n",
        "    assert isinstance(env.action_space, spaces.Discrete), \"FQI only support discrete actions\"\n",
        "\n",
        "    while total_episodes < n_eval_episodes:\n",
        "        # Record video\n",
        "        if video_recorder is not None:\n",
        "            video_recorder.capture_frame()\n",
        "\n",
        "        ### YOUR CODE HERE\n",
        "\n",
        "        # Retrieve the q-values for the current observation\n",
        "        # you need to re-use `get_q_values()`\n",
        "        # Note: you need to add a batch dimension to the observation\n",
        "        # you can use `current_obs[np.newaxis, ...]` for that: (obs_dim,) -> (batch_size=1, obs_dim)\n",
        "\n",
        "        # batch_obs =  current_obs[np.newaxis, ...]\n",
        "        batch_obs = np.expand_dims(current_obs, axis=0)\n",
        "\n",
        "        q_values = get_q_values(model, batch_obs, n_actions)\n",
        "\n",
        "        # Select the action that maximizes the q-value for each state\n",
        "        # Don't forget to remove the batch dimension, you can use `.item()` for that\n",
        "        action = int(np.argmax(q_values, axis=1).item())\n",
        "\n",
        "        # Send the action to the env and update current observation\n",
        "        current_obs, reward, terminated, truncated, info = env.step(action)\n",
        "\n",
        "        ### END OF YOUR CODE\n",
        "\n",
        "        episode_reward += float(reward)\n",
        "\n",
        "        done = terminated or truncated\n",
        "        if done:\n",
        "            episode_returns.append(episode_reward)\n",
        "            episode_reward = 0.0\n",
        "            total_episodes += 1\n",
        "            current_obs, _ = env.reset()\n",
        "\n",
        "    if video_recorder is not None:\n",
        "        print(f\"Saving video to {video_recorder.path}\")\n",
        "        video_recorder.close()\n",
        "\n",
        "    print(f\"Total reward = {np.mean(episode_returns):.2f} +/- {np.std(episode_returns):.2f}\")"
      ]
    },
    {
      "cell_type": "code",
      "source": [
        "import os\n",
        "\n",
        "from gymnasium.wrappers.monitoring.video_recorder import VideoRecorder\n",
        "\n",
        "\n",
        "def evaluate(\n",
        "    model: RegressorMixin,\n",
        "    env: gym.Env,\n",
        "    n_eval_episodes: int = 10,\n",
        "    video_name: Optional[str] = None,\n",
        ") -> None:\n",
        "    episode_returns, episode_reward = [], 0.0\n",
        "    total_episodes = 0\n",
        "    done = False\n",
        "\n",
        "    # Setup video recorder\n",
        "    video_recorder = None\n",
        "    if video_name is not None and env.render_mode == \"rgb_array\":\n",
        "        os.makedirs(\"../logs/videos/\", exist_ok=True)\n",
        "\n",
        "        video_recorder = VideoRecorder(\n",
        "            env=env,\n",
        "            base_path=f\"../logs/videos/{video_name}\",\n",
        "        )\n",
        "\n",
        "    obs, _ = env.reset()\n",
        "    n_actions = int(env.action_space.n)\n",
        "    assert isinstance(env.action_space, spaces.Discrete), \"FQI only support discrete actions\"\n",
        "\n",
        "    while total_episodes < n_eval_episodes:\n",
        "        # Record video\n",
        "        if video_recorder is not None:\n",
        "            video_recorder.capture_frame()\n",
        "\n",
        "        ### YOUR CODE HERE\n",
        "\n",
        "        # Retrieve the q-values for the current observation\n",
        "        # you need to re-use `get_q_values()`\n",
        "        # Note: you need to add a batch dimension to the observation\n",
        "        # you can use `obs[np.newaxis, ...]` for that: (obs_dim,) -> (batch_size=1, obs_dim)\n",
        "        q_values = get_q_values(\n",
        "            model,\n",
        "            obs[np.newaxis, ...],\n",
        "            n_actions,\n",
        "        )\n",
        "        # Select the action that maximizes the q-value for each state\n",
        "        # Don't forget to remove the batch dimension, you can `.item()` for that\n",
        "        best_action = int(np.argmax(q_values, axis=1).item())\n",
        "\n",
        "        # Send the action to the env\n",
        "        obs, reward, terminated, truncated, _ = env.step(best_action)\n",
        "\n",
        "        ### END OF YOUR CODE\n",
        "\n",
        "        episode_reward += float(reward)\n",
        "\n",
        "        done = terminated or truncated\n",
        "        if done:\n",
        "            episode_returns.append(episode_reward)\n",
        "            episode_reward = 0.0\n",
        "            total_episodes += 1\n",
        "            obs, _ = env.reset()\n",
        "\n",
        "    if video_recorder is not None:\n",
        "        print(f\"Saving video to {video_recorder.path}\")\n",
        "        video_recorder.close()\n",
        "\n",
        "    print(f\"Total reward = {np.mean(episode_returns):.2f} +/- {np.std(episode_returns):.2f}\")"
      ],
      "metadata": {
        "id": "_PrNsg044h6K"
      },
      "id": "_PrNsg044h6K",
      "execution_count": 44,
      "outputs": []
    },
    {
      "cell_type": "code",
      "execution_count": 45,
      "id": "23e326d9-1fa7-4efd-a841-b1d9e5ef9484",
      "metadata": {
        "id": "23e326d9-1fa7-4efd-a841-b1d9e5ef9484",
        "colab": {
          "base_uri": "https://localhost:8080/"
        },
        "outputId": "88bac6bb-4b7e-4150-dd96-7368f887a907"
      },
      "outputs": [
        {
          "output_type": "stream",
          "name": "stdout",
          "text": [
            "Total reward = 9.70 +/- 0.78\n"
          ]
        }
      ],
      "source": [
        "# Evaluate the first iteration\n",
        "evaluate(model, env, n_eval_episodes=10)"
      ]
    },
    {
      "cell_type": "markdown",
      "id": "eced782e-653d-4041-8473-2c39d12ba9a9",
      "metadata": {
        "id": "eced782e-653d-4041-8473-2c39d12ba9a9"
      },
      "source": [
        "### 3. Exercise (20 minutes): the Fitted Q Iterations\n",
        "\n",
        "1. Create the training set based on the previous iteration $ Q^{n-1}_\\theta(s, a) $ and the transitions:\n",
        "- input: $x = (s_t, a_t)$\n",
        "- if $s_{t+1}$ is non-terminal: $y = r_t + \\gamma \\cdot \\max_{a' \\in A}(Q^{n-1}_\\theta(s_{t+1}, a'))$\n",
        "- if $s_{t+1}$ is terminal, do not bootstrap: $y = r_t$\n",
        "\n",
        "2. Fit a model $f_\\theta$ using a regression algorithm to obtain $ Q^{n}_\\theta(s, a)$\n",
        "\n",
        "\\begin{aligned}\n",
        " f_\\theta(x) = y\n",
        "\\end{aligned}\n",
        "\n",
        "4. Repeat, $n = n + 1$"
      ]
    },
    {
      "cell_type": "markdown",
      "id": "5d824b98-6360-4d4e-a3e2-584c0c36665e",
      "metadata": {
        "id": "5d824b98-6360-4d4e-a3e2-584c0c36665e"
      },
      "source": [
        "First, let's define some constants:"
      ]
    },
    {
      "cell_type": "code",
      "execution_count": 46,
      "id": "7cbff0d8-eab0-4cec-847e-23bc1c509359",
      "metadata": {
        "id": "7cbff0d8-eab0-4cec-847e-23bc1c509359"
      },
      "outputs": [],
      "source": [
        "# Max number of iterations\n",
        "n_iterations = 20\n",
        "# How often do we evaluate the learned model\n",
        "eval_freq = 2\n",
        "# How many episodes to evaluate every eval-freq\n",
        "n_eval_episodes = 10\n",
        "# discount factor\n",
        "gamma = 0.99\n",
        "# Number of discrete actions\n",
        "n_actions = int(env.action_space.n)"
      ]
    },
    {
      "cell_type": "markdown",
      "id": "18d564da-7170-4bf8-8259-f19d0b12bcbd",
      "metadata": {
        "id": "18d564da-7170-4bf8-8259-f19d0b12bcbd"
      },
      "source": [
        "Then do several iteration of the FQI algorithm\n",
        "\n",
        "**HINT**: For that exercise, you should take a look at the first iteration of FQI.\n",
        "\n",
        "**HINT**: The`data` variable (containing the offline dataset) is an instance of `OfflineData`:\n",
        "\n",
        "```python\n",
        "@dataclass\n",
        "class OfflineData:\n",
        "    \"\"\"\n",
        "    A class to store transitions.\n",
        "    \"\"\"\n",
        "\n",
        "    observations: np.ndarray  # same as \"state\" in the theory\n",
        "    next_observations: np.ndarray\n",
        "    actions: np.ndarray\n",
        "    rewards: np.ndarray\n",
        "    terminateds: np.ndarray\n",
        "```"
      ]
    },
    {
      "cell_type": "code",
      "execution_count": 47,
      "id": "45dbbc13-5332-4f2b-8cfe-0b7d5464e853",
      "metadata": {
        "id": "45dbbc13-5332-4f2b-8cfe-0b7d5464e853",
        "colab": {
          "base_uri": "https://localhost:8080/"
        },
        "outputId": "d3fbb6d7-58da-4c3b-f537-2325586004d7"
      },
      "outputs": [
        {
          "output_type": "stream",
          "name": "stdout",
          "text": [
            "<class 'dqn_tutorial.fqi.collect_data.OfflineData'>\n",
            "(50000, 4)\n"
          ]
        }
      ],
      "source": [
        "# Load saved transitions\n",
        "data = load_data(output_filename)\n",
        "\n",
        "print(type(data))\n",
        "print(data.observations.shape)"
      ]
    },
    {
      "cell_type": "markdown",
      "id": "acb8ef52-67c8-4290-b679-67b40025caed",
      "metadata": {
        "id": "acb8ef52-67c8-4290-b679-67b40025caed"
      },
      "source": [
        "**HINT**: As for the first exercise, we are working here with a batch of data. Thanks to numpy, you can efficiently compute the max over a batch:\n",
        "\n",
        "<div>\n",
        "    <img src=\"https://araffin.github.io/slides/dqn-tutorial/images/sklearn/q_values_max.png\" width=\"500\"/>\n",
        "</div>\n",
        "\n",
        "**HINT**: Using masking, you can elegantly handle the two cases for the regression target. The value of $y$ depends on whether the episode is terminated or not (in one case we bootstrap using the q-value, in the other case, we do not bootstrap and use the terminal reward instead).\n",
        "\n",
        "Visually, masking is an element-wise operation:\n",
        "\n",
        "<div>\n",
        "    <img src=\"https://araffin.github.io/slides/dqn-tutorial/images/sklearn/masking.png\" width=\"500\"/>\n",
        "</div>\n",
        "\n"
      ]
    },
    {
      "cell_type": "code",
      "execution_count": 48,
      "id": "21c99207-4a80-4263-8b13-1818f65632e1",
      "metadata": {
        "id": "21c99207-4a80-4263-8b13-1818f65632e1",
        "colab": {
          "base_uri": "https://localhost:8080/"
        },
        "outputId": "03ac14d8-25fb-4e00-836f-5758b10c1926"
      },
      "outputs": [
        {
          "output_type": "stream",
          "name": "stdout",
          "text": [
            "Iter 2\n",
            "Score: 0.73\n",
            "Total reward = 32.70 +/- 45.14\n",
            "Iter 4\n",
            "Score: 0.86\n",
            "Total reward = 153.10 +/- 9.07\n",
            "Iter 6\n",
            "Score: 0.90\n",
            "Total reward = 178.70 +/- 10.50\n",
            "Iter 8\n",
            "Score: 0.92\n",
            "Total reward = 180.30 +/- 8.92\n",
            "Iter 10\n",
            "Score: 0.92\n",
            "Total reward = 189.80 +/- 22.78\n",
            "Iter 12\n",
            "Score: 0.93\n",
            "Total reward = 196.50 +/- 25.41\n",
            "Iter 14\n",
            "Score: 0.93\n",
            "Total reward = 215.80 +/- 20.54\n",
            "Iter 16\n",
            "Score: 0.93\n",
            "Total reward = 373.50 +/- 112.88\n",
            "Iter 18\n",
            "Score: 0.94\n",
            "Total reward = 372.90 +/- 92.61\n",
            "Iter 20\n",
            "Score: 0.94\n",
            "Total reward = 369.20 +/- 105.34\n"
          ]
        }
      ],
      "source": [
        "batch_size = data.observations.shape[0]\n",
        "n_actions = 2\n",
        "\n",
        "for iter_idx in range(n_iterations):\n",
        "    ### YOUR CODE HERE\n",
        "    # TODO:\n",
        "    # 1. Compute the q values for the next states using\n",
        "    # the previous regression model\n",
        "    # 2. Keep only the next q values that correspond\n",
        "    # to the greedy-policy\n",
        "    # 3. Construct the regression target (TD(0) target)\n",
        "    # 4. Fit a new regression model with this new target\n",
        "\n",
        "    # First, retrieve the q-values for the next states (data.next_observations)\n",
        "    # for all possible actions\n",
        "    # you need to use `get_q_values()` method\n",
        "    q_values = get_q_values(model, data.next_observations, n_actions)  # (B, 2)\n",
        "\n",
        "    # Follow-greedy policy: use the action with the highest q-value\n",
        "    # to compute the next q-values\n",
        "    max_q_values = np.max(q_values, axis=1)\n",
        "\n",
        "    # The new target is the reward + what our agent expect to get\n",
        "    # if it follows a greedy policy (follow action with the highest q-value)\n",
        "    # Reminder: you should not bootstrap if terminated=True\n",
        "    # (you can mask the next q values for that using `np.logical_not`)\n",
        "    targets = data.rewards + gamma * max_q_values * np.logical_not(data.terminateds)\n",
        "\n",
        "    # Update the q-value estimate for the current (observations, actions) pair\n",
        "    # (current_obs_input)\n",
        "    # with the current target,\n",
        "    # i.e., fit a regression model using the new target\n",
        "    # Note: you can use `model_class()` to instantiate a new model\n",
        "    current_obs_input = np.concatenate((data.observations, data.actions), axis=1)\n",
        "    # Fit the estimator for the current target\n",
        "    model = model_class().fit(current_obs_input, targets)\n",
        "\n",
        "\n",
        "    ### END OF YOUR CODE\n",
        "\n",
        "    if (iter_idx + 1) % eval_freq == 0:\n",
        "        print(f\"Iter {iter_idx + 1}\")\n",
        "        print(f\"Score: {model.score(current_obs_input, targets):.2f}\")\n",
        "        evaluate(model, env, n_eval_episodes)"
      ]
    },
    {
      "cell_type": "markdown",
      "id": "e3477740-bfe4-4e0b-8a5d-cd0206786c8b",
      "metadata": {
        "id": "e3477740-bfe4-4e0b-8a5d-cd0206786c8b"
      },
      "source": [
        "### Record a video of the trained agent"
      ]
    },
    {
      "cell_type": "code",
      "execution_count": 49,
      "id": "da8d90cc-2d77-4682-a97c-a3dacd081f38",
      "metadata": {
        "id": "da8d90cc-2d77-4682-a97c-a3dacd081f38",
        "colab": {
          "base_uri": "https://localhost:8080/"
        },
        "outputId": "33a1c051-3f59-4318-f75c-d29a57ec6e75"
      },
      "outputs": [
        {
          "output_type": "stream",
          "name": "stdout",
          "text": [
            "Saving video to ../logs/videos/FQI_CartPole-v1.mp4\n",
            "Moviepy - Building video ../logs/videos/FQI_CartPole-v1.mp4.\n",
            "Moviepy - Writing video ../logs/videos/FQI_CartPole-v1.mp4\n",
            "\n"
          ]
        },
        {
          "output_type": "stream",
          "name": "stderr",
          "text": []
        },
        {
          "output_type": "stream",
          "name": "stdout",
          "text": [
            "Moviepy - Done !\n",
            "Moviepy - video ready ../logs/videos/FQI_CartPole-v1.mp4\n",
            "Total reward = 471.67 +/- 40.07\n"
          ]
        }
      ],
      "source": [
        "eval_env = gym.make(env_id, render_mode=\"rgb_array\")\n",
        "video_name = f\"FQI_{env_id}\"\n",
        "n_eval_episodes = 3\n",
        "\n",
        "evaluate(model, eval_env, n_eval_episodes, video_name=video_name)"
      ]
    },
    {
      "cell_type": "code",
      "execution_count": 50,
      "id": "bfc66910-de41-4622-9811-96addf8ba8d3",
      "metadata": {
        "id": "bfc66910-de41-4622-9811-96addf8ba8d3",
        "colab": {
          "base_uri": "https://localhost:8080/",
          "height": 439
        },
        "outputId": "9ec066e3-8f08-4b39-aba2-1df6f9d6dc72"
      },
      "outputs": [
        {
          "output_type": "stream",
          "name": "stdout",
          "text": [
            "FQI agent on CartPole-v1 after 20 iterations:\n"
          ]
        },
        {
          "output_type": "display_data",
          "data": {
            "text/plain": [
              "<IPython.core.display.HTML object>"
            ],
            "text/html": [
              "<video alt=\"../logs/videos/FQI_CartPole-v1.mp4\" autoplay\n",
              "                    loop controls style=\"height: 400px;\">\n",
              "                    <source src=\"data:video/mp4;base64,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\" type=\"video/mp4\" />\n",
              "                </video>"
            ]
          },
          "metadata": {}
        }
      ],
      "source": [
        "from dqn_tutorial.notebook_utils import show_videos\n",
        "\n",
        "print(f\"FQI agent on {env_id} after {n_iterations} iterations:\")\n",
        "show_videos(\"../logs/videos/\", prefix=video_name)"
      ]
    },
    {
      "cell_type": "markdown",
      "id": "69a60230-6477-4318-8d60-10f6eada6064",
      "metadata": {
        "id": "69a60230-6477-4318-8d60-10f6eada6064"
      },
      "source": [
        "### Going further\n",
        "\n",
        "- play with different models, and with their hyperparameters\n",
        "- play with the discount factor\n",
        "- play with the number of data collected/used\n",
        "- combine data from random policy with data from trained model"
      ]
    },
    {
      "cell_type": "markdown",
      "id": "40b8a44f-d48c-4a9d-8ed4-968c1ffb9948",
      "metadata": {
        "id": "40b8a44f-d48c-4a9d-8ed4-968c1ffb9948"
      },
      "source": [
        "## Conclusion\n",
        "\n",
        "What we have seen in this notebook:\n",
        "- collecting data using a random agent in a gym environment\n",
        "- predicting q-values using a regression model\n",
        "- the fitted q-iteration (FQI) algorithm to learn from an offline dataset"
      ]
    },
    {
      "cell_type": "code",
      "execution_count": 50,
      "id": "761010b8-86dd-4958-b097-2912606b4493",
      "metadata": {
        "id": "761010b8-86dd-4958-b097-2912606b4493"
      },
      "outputs": [],
      "source": []
    }
  ],
  "metadata": {
    "kernelspec": {
      "display_name": "Python 3 (ipykernel)",
      "language": "python",
      "name": "python3"
    },
    "language_info": {
      "codemirror_mode": {
        "name": "ipython",
        "version": 3
      },
      "file_extension": ".py",
      "mimetype": "text/x-python",
      "name": "python",
      "nbconvert_exporter": "python",
      "pygments_lexer": "ipython3",
      "version": "3.10.9"
    },
    "colab": {
      "provenance": [],
      "include_colab_link": true
    }
  },
  "nbformat": 4,
  "nbformat_minor": 5
}